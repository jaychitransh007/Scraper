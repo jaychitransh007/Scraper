{
 "cells": [
  {
   "cell_type": "code",
   "execution_count": 8,
   "metadata": {},
   "outputs": [],
   "source": [
    "import requests\n",
    "from bs4 import BeautifulSoup"
   ]
  },
  {
   "cell_type": "code",
   "execution_count": 19,
   "metadata": {},
   "outputs": [],
   "source": [
    "login_url = 'https://my.freecycle.org/login'\n",
    "url = 'https://groups.freecycle.org/group/GurgaonIN/description'"
   ]
  },
  {
   "cell_type": "code",
   "execution_count": 20,
   "metadata": {},
   "outputs": [],
   "source": [
    "#username-input-name is the \"name\" tag associated with the username input field of the login form.\n",
    "#password-input-name is the \"name\" tag associated with the password input field of the login form.\n",
    "\n",
    "username = '<username>'\n",
    "password = '<password>'\n",
    "\n",
    "payload = {'username-input-name': username, 'password-input-name': password}"
   ]
  },
  {
   "cell_type": "code",
   "execution_count": 21,
   "metadata": {},
   "outputs": [],
   "source": [
    "session = requests.Session()\n",
    "post = session.post(login_url, payload)\n",
    "req = session.get(url)"
   ]
  },
  {
   "cell_type": "code",
   "execution_count": 22,
   "metadata": {},
   "outputs": [],
   "source": [
    "html = req.text\n",
    "soup = BeautifulSoup(html, 'lxml')"
   ]
  },
  {
   "cell_type": "code",
   "execution_count": 25,
   "metadata": {},
   "outputs": [
    {
     "name": "stdout",
     "output_type": "stream",
     "text": [
      "changing the worldone gift at a time™\n",
      "\n",
      " \n",
      "Welcome to the Gurgaon Freecycle group\n",
      " \n",
      "Gurgaon Freecycle(R) is for all who want to find a new home for reusable items.\n",
      " \n",
      "The Freecycle Network is made up of 5,321 groups with 9,270,332 members across the globe. It's a grassroots and entirely nonprofit movement of people who are giving (and getting) stuff for free in their own towns and thus keeping good stuff out of landfills.\n",
      " \n",
      "Membership is free, and everything posted must be FREE, legal and appropriate for all ages\n",
      " \n",
      "To view the items being given away or sought in Gurgaon, you must be a member of the local group.\n",
      " \n",
      "Freecycle is a movement of people keeping stuff out of landfills while building a sense of community.\n",
      " \n",
      "Send questions or comments to The Freecycle.org  Network\n",
      " \n",
      " \n",
      " \n",
      "“Copyright © 2003 The Freecycle Network (http://www.Freecycle.org). All\n",
      "rights reserved. Freecycle.org and the Freecycle.org logo are registered\n",
      "trademarks of The Freecycle.org Network”\n",
      " \n",
      " \n",
      " \n",
      " \n",
      " Please login or sign up to My Freecycle to join this group. \n"
     ]
    }
   ],
   "source": [
    "for data in soup.select('p'):\n",
    "    print(data.getText())"
   ]
  },
  {
   "cell_type": "code",
   "execution_count": null,
   "metadata": {},
   "outputs": [],
   "source": []
  }
 ],
 "metadata": {
  "kernelspec": {
   "display_name": "Python 3",
   "language": "python",
   "name": "python3"
  },
  "language_info": {
   "codemirror_mode": {
    "name": "ipython",
    "version": 3
   },
   "file_extension": ".py",
   "mimetype": "text/x-python",
   "name": "python",
   "nbconvert_exporter": "python",
   "pygments_lexer": "ipython3",
   "version": "3.6.4"
  }
 },
 "nbformat": 4,
 "nbformat_minor": 2
}
